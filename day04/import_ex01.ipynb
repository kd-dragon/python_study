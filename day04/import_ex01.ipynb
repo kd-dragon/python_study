{
 "cells": [
  {
   "cell_type": "code",
   "execution_count": 8,
   "metadata": {},
   "outputs": [
    {
     "name": "stdout",
     "output_type": "stream",
     "text": [
      "10 + 30 =  40\n",
      "30 - 10 =  20\n",
      "30 * 10 =  300\n",
      "30 / 10 =  3.0\n"
     ]
    }
   ],
   "source": [
    "#문제 1. 지난 과제에서 만든 연산 메소드를 import 로 불러와서 아래 결과를 출력하시오\n",
    "import calculate as cal\n",
    "\n",
    "#코드 입력"
   ]
  }
 ],
 "metadata": {
  "kernelspec": {
   "display_name": "Python 3",
   "language": "python",
   "name": "python3"
  },
  "language_info": {
   "codemirror_mode": {
    "name": "ipython",
    "version": 3
   },
   "file_extension": ".py",
   "mimetype": "text/x-python",
   "name": "python",
   "nbconvert_exporter": "python",
   "pygments_lexer": "ipython3",
   "version": "3.8.3"
  }
 },
 "nbformat": 4,
 "nbformat_minor": 4
}
