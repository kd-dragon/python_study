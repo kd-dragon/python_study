{
 "cells": [
  {
   "cell_type": "code",
   "execution_count": 13,
   "metadata": {},
   "outputs": [],
   "source": [
    "#문제 3. 파이썬 내장모듈 math 를 import 하여 아래 문제의 정답을 모두 출력하시오.\n",
    "import math \n",
    "#혹은 from math import 사용할 함수이름들 \n",
    "\n",
    "#모듈에 포함된 함수 목록을 보고 싶으며 dir() 함수 이용 ex) dir(math)\n",
    "\n",
    "#1. 64의 제곱근을 구하시오 > sqrt(x)\n",
    "#2. 값 -15.5의 절대값을 출력하시오 > fabs(x)\n",
    "#3. 3.45 를 반올림하시오. > ceil(x)\n",
    "#4. 3.89 의 버림값을 출력하시오. > floor(x)\n",
    "#5. 3.14 의 값을 정수와 소수 부분으로 분리하여 출력하시오. > modf(x)\n",
    "#6. 팩토리얼 함수로 1부터 주어진 값까지 모두 곱하는 값 반환하여 출력하시오 > factorial(x)\n",
    "\n"
   ]
  }
 ],
 "metadata": {
  "kernelspec": {
   "display_name": "Python 3",
   "language": "python",
   "name": "python3"
  },
  "language_info": {
   "codemirror_mode": {
    "name": "ipython",
    "version": 3
   },
   "file_extension": ".py",
   "mimetype": "text/x-python",
   "name": "python",
   "nbconvert_exporter": "python",
   "pygments_lexer": "ipython3",
   "version": "3.8.3"
  }
 },
 "nbformat": 4,
 "nbformat_minor": 4
}
