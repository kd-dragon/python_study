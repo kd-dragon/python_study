{
 "cells": [
  {
   "cell_type": "code",
   "execution_count": null,
   "metadata": {},
   "outputs": [],
   "source": [
    "#문제4\n",
    "#문제3에서 생성한 파일(1~10번째줄)을 읽어온뒤 출력하시오.\n",
    "#readlines 함수를 사용하시오(readlines함수는 모든 줄을 읽어서 리스트 형)\n",
    "# f = open('파일명','r')\n",
    "# lines = f.readlines()     \n",
    "\n",
    "#출력결과\n",
    "1번째 줄입니다.\n",
    "2번째 줄입니다.\n",
    "3번째 줄입니다.\n",
    "4번쨰 줄입니다.\n",
    "5번쨰 줄입니다.\n",
    "6번째 줄입니다.\n",
    "7번째 줄입니다.\n",
    "8번째 줄입니다.\n",
    "9번쨰 줄입니다.\n",
    "10번쨰 줄입니다.\n"
   ]
  }
 ],
 "metadata": {
  "kernelspec": {
   "display_name": "Python 3",
   "language": "python",
   "name": "python3"
  },
  "language_info": {
   "codemirror_mode": {
    "name": "ipython",
    "version": 3
   },
   "file_extension": ".py",
   "mimetype": "text/x-python",
   "name": "python",
   "nbconvert_exporter": "python",
   "pygments_lexer": "ipython3",
   "version": "3.8.3"
  }
 },
 "nbformat": 4,
 "nbformat_minor": 4
}
