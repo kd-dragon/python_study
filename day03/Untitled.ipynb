{
 "cells": [
  {
   "cell_type": "code",
   "execution_count": null,
   "metadata": {},
   "outputs": [],
   "source": [
    "# 문제 6\n",
    "# 문제 5를 참고하여 본인만의 계산기 클래스를 만드시오.\n",
    "# 필수 기능(덧셈, 뺄셈, 곱셈, 나눗셈) \n",
    "# 그 외의 기능은 계산기 참고하여 자유롭게 개발하시면 됩니다.\n",
    "\n",
    "class Calculator:\n",
    "    def __init__(self):\n",
    "        self.currentValue = 0\n",
    "    \n",
    "    def Clear(self):\n",
    "        self.currentValue = 0\n",
    "    \n",
    "    def Add(self, num):\n",
    "        self.currentValue += num\n",
    "        return self.currentValue\n",
    "    \n"
   ]
  }
 ],
 "metadata": {
  "kernelspec": {
   "display_name": "Python 3",
   "language": "python",
   "name": "python3"
  },
  "language_info": {
   "codemirror_mode": {
    "name": "ipython",
    "version": 3
   },
   "file_extension": ".py",
   "mimetype": "text/x-python",
   "name": "python",
   "nbconvert_exporter": "python",
   "pygments_lexer": "ipython3",
   "version": "3.8.3"
  }
 },
 "nbformat": 4,
 "nbformat_minor": 4
}
